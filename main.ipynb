{
 "cells": [
  {
   "cell_type": "code",
   "execution_count": 373,
   "id": "483c2ab0-84de-4ebc-894f-4a88afb8306d",
   "metadata": {},
   "outputs": [],
   "source": [
    "import geopandas as gp\n",
    "import matplotlib\n",
    "import pulp"
   ]
  },
  {
   "cell_type": "raw",
   "id": "d215ede7-4972-4466-9322-4be63d585013",
   "metadata": {},
   "source": [
    "# Firstly, let's read the data from land_parcels.shp and load it onto a geodataframe and we will do so using the .read_file method"
   ]
  },
  {
   "cell_type": "code",
   "execution_count": 374,
   "id": "24a0b9f3-61b8-45cd-8058-75337c5d7c00",
   "metadata": {},
   "outputs": [
    {
     "ename": "DataSourceError",
     "evalue": "/home/shipi/take_home/land_parcels.shp: No such file or directory",
     "output_type": "error",
     "traceback": [
      "\u001b[31m---------------------------------------------------------------------------\u001b[39m",
      "\u001b[31mDataSourceError\u001b[39m                           Traceback (most recent call last)",
      "\u001b[36mCell\u001b[39m\u001b[36m \u001b[39m\u001b[32mIn[374]\u001b[39m\u001b[32m, line 1\u001b[39m\n\u001b[32m----> \u001b[39m\u001b[32m1\u001b[39m data_frame = \u001b[43mgp\u001b[49m\u001b[43m.\u001b[49m\u001b[43mread_file\u001b[49m\u001b[43m(\u001b[49m\u001b[33;43m\"\u001b[39;49m\u001b[33;43m~/take_home/land_parcels.shp\u001b[39;49m\u001b[33;43m\"\u001b[39;49m\u001b[43m)\u001b[49m\n\u001b[32m      2\u001b[39m \u001b[38;5;28mprint\u001b[39m(data_frame.head())\n",
      "\u001b[36mFile \u001b[39m\u001b[32m~/polygon_proj/polygon/lib/python3.12/site-packages/geopandas/io/file.py:294\u001b[39m, in \u001b[36m_read_file\u001b[39m\u001b[34m(filename, bbox, mask, columns, rows, engine, **kwargs)\u001b[39m\n\u001b[32m    291\u001b[39m             from_bytes = \u001b[38;5;28;01mTrue\u001b[39;00m\n\u001b[32m    293\u001b[39m \u001b[38;5;28;01mif\u001b[39;00m engine == \u001b[33m\"\u001b[39m\u001b[33mpyogrio\u001b[39m\u001b[33m\"\u001b[39m:\n\u001b[32m--> \u001b[39m\u001b[32m294\u001b[39m     \u001b[38;5;28;01mreturn\u001b[39;00m \u001b[43m_read_file_pyogrio\u001b[49m\u001b[43m(\u001b[49m\n\u001b[32m    295\u001b[39m \u001b[43m        \u001b[49m\u001b[43mfilename\u001b[49m\u001b[43m,\u001b[49m\u001b[43m \u001b[49m\u001b[43mbbox\u001b[49m\u001b[43m=\u001b[49m\u001b[43mbbox\u001b[49m\u001b[43m,\u001b[49m\u001b[43m \u001b[49m\u001b[43mmask\u001b[49m\u001b[43m=\u001b[49m\u001b[43mmask\u001b[49m\u001b[43m,\u001b[49m\u001b[43m \u001b[49m\u001b[43mcolumns\u001b[49m\u001b[43m=\u001b[49m\u001b[43mcolumns\u001b[49m\u001b[43m,\u001b[49m\u001b[43m \u001b[49m\u001b[43mrows\u001b[49m\u001b[43m=\u001b[49m\u001b[43mrows\u001b[49m\u001b[43m,\u001b[49m\u001b[43m \u001b[49m\u001b[43m*\u001b[49m\u001b[43m*\u001b[49m\u001b[43mkwargs\u001b[49m\n\u001b[32m    296\u001b[39m \u001b[43m    \u001b[49m\u001b[43m)\u001b[49m\n\u001b[32m    298\u001b[39m \u001b[38;5;28;01melif\u001b[39;00m engine == \u001b[33m\"\u001b[39m\u001b[33mfiona\u001b[39m\u001b[33m\"\u001b[39m:\n\u001b[32m    299\u001b[39m     \u001b[38;5;28;01mif\u001b[39;00m pd.api.types.is_file_like(filename):\n",
      "\u001b[36mFile \u001b[39m\u001b[32m~/polygon_proj/polygon/lib/python3.12/site-packages/geopandas/io/file.py:547\u001b[39m, in \u001b[36m_read_file_pyogrio\u001b[39m\u001b[34m(path_or_bytes, bbox, mask, rows, **kwargs)\u001b[39m\n\u001b[32m    538\u001b[39m     warnings.warn(\n\u001b[32m    539\u001b[39m         \u001b[33m\"\u001b[39m\u001b[33mThe \u001b[39m\u001b[33m'\u001b[39m\u001b[33minclude_fields\u001b[39m\u001b[33m'\u001b[39m\u001b[33m and \u001b[39m\u001b[33m'\u001b[39m\u001b[33mignore_fields\u001b[39m\u001b[33m'\u001b[39m\u001b[33m keywords are deprecated, and \u001b[39m\u001b[33m\"\u001b[39m\n\u001b[32m    540\u001b[39m         \u001b[33m\"\u001b[39m\u001b[33mwill be removed in a future release. You can use the \u001b[39m\u001b[33m'\u001b[39m\u001b[33mcolumns\u001b[39m\u001b[33m'\u001b[39m\u001b[33m keyword \u001b[39m\u001b[33m\"\u001b[39m\n\u001b[32m   (...)\u001b[39m\u001b[32m    543\u001b[39m         stacklevel=\u001b[32m3\u001b[39m,\n\u001b[32m    544\u001b[39m     )\n\u001b[32m    545\u001b[39m     kwargs[\u001b[33m\"\u001b[39m\u001b[33mcolumns\u001b[39m\u001b[33m\"\u001b[39m] = kwargs.pop(\u001b[33m\"\u001b[39m\u001b[33minclude_fields\u001b[39m\u001b[33m\"\u001b[39m)\n\u001b[32m--> \u001b[39m\u001b[32m547\u001b[39m \u001b[38;5;28;01mreturn\u001b[39;00m \u001b[43mpyogrio\u001b[49m\u001b[43m.\u001b[49m\u001b[43mread_dataframe\u001b[49m\u001b[43m(\u001b[49m\u001b[43mpath_or_bytes\u001b[49m\u001b[43m,\u001b[49m\u001b[43m \u001b[49m\u001b[43mbbox\u001b[49m\u001b[43m=\u001b[49m\u001b[43mbbox\u001b[49m\u001b[43m,\u001b[49m\u001b[43m \u001b[49m\u001b[43m*\u001b[49m\u001b[43m*\u001b[49m\u001b[43mkwargs\u001b[49m\u001b[43m)\u001b[49m\n",
      "\u001b[36mFile \u001b[39m\u001b[32m~/polygon_proj/polygon/lib/python3.12/site-packages/pyogrio/geopandas.py:265\u001b[39m, in \u001b[36mread_dataframe\u001b[39m\u001b[34m(path_or_buffer, layer, encoding, columns, read_geometry, force_2d, skip_features, max_features, where, bbox, mask, fids, sql, sql_dialect, fid_as_index, use_arrow, on_invalid, arrow_to_pandas_kwargs, **kwargs)\u001b[39m\n\u001b[32m    260\u001b[39m \u001b[38;5;28;01mif\u001b[39;00m \u001b[38;5;129;01mnot\u001b[39;00m use_arrow:\n\u001b[32m    261\u001b[39m     \u001b[38;5;66;03m# For arrow, datetimes are read as is.\u001b[39;00m\n\u001b[32m    262\u001b[39m     \u001b[38;5;66;03m# For numpy IO, datetimes are read as string values to preserve timezone info\u001b[39;00m\n\u001b[32m    263\u001b[39m     \u001b[38;5;66;03m# as numpy does not directly support timezones.\u001b[39;00m\n\u001b[32m    264\u001b[39m     kwargs[\u001b[33m\"\u001b[39m\u001b[33mdatetime_as_string\u001b[39m\u001b[33m\"\u001b[39m] = \u001b[38;5;28;01mTrue\u001b[39;00m\n\u001b[32m--> \u001b[39m\u001b[32m265\u001b[39m result = \u001b[43mread_func\u001b[49m\u001b[43m(\u001b[49m\n\u001b[32m    266\u001b[39m \u001b[43m    \u001b[49m\u001b[43mpath_or_buffer\u001b[49m\u001b[43m,\u001b[49m\n\u001b[32m    267\u001b[39m \u001b[43m    \u001b[49m\u001b[43mlayer\u001b[49m\u001b[43m=\u001b[49m\u001b[43mlayer\u001b[49m\u001b[43m,\u001b[49m\n\u001b[32m    268\u001b[39m \u001b[43m    \u001b[49m\u001b[43mencoding\u001b[49m\u001b[43m=\u001b[49m\u001b[43mencoding\u001b[49m\u001b[43m,\u001b[49m\n\u001b[32m    269\u001b[39m \u001b[43m    \u001b[49m\u001b[43mcolumns\u001b[49m\u001b[43m=\u001b[49m\u001b[43mcolumns\u001b[49m\u001b[43m,\u001b[49m\n\u001b[32m    270\u001b[39m \u001b[43m    \u001b[49m\u001b[43mread_geometry\u001b[49m\u001b[43m=\u001b[49m\u001b[43mread_geometry\u001b[49m\u001b[43m,\u001b[49m\n\u001b[32m    271\u001b[39m \u001b[43m    \u001b[49m\u001b[43mforce_2d\u001b[49m\u001b[43m=\u001b[49m\u001b[43mgdal_force_2d\u001b[49m\u001b[43m,\u001b[49m\n\u001b[32m    272\u001b[39m \u001b[43m    \u001b[49m\u001b[43mskip_features\u001b[49m\u001b[43m=\u001b[49m\u001b[43mskip_features\u001b[49m\u001b[43m,\u001b[49m\n\u001b[32m    273\u001b[39m \u001b[43m    \u001b[49m\u001b[43mmax_features\u001b[49m\u001b[43m=\u001b[49m\u001b[43mmax_features\u001b[49m\u001b[43m,\u001b[49m\n\u001b[32m    274\u001b[39m \u001b[43m    \u001b[49m\u001b[43mwhere\u001b[49m\u001b[43m=\u001b[49m\u001b[43mwhere\u001b[49m\u001b[43m,\u001b[49m\n\u001b[32m    275\u001b[39m \u001b[43m    \u001b[49m\u001b[43mbbox\u001b[49m\u001b[43m=\u001b[49m\u001b[43mbbox\u001b[49m\u001b[43m,\u001b[49m\n\u001b[32m    276\u001b[39m \u001b[43m    \u001b[49m\u001b[43mmask\u001b[49m\u001b[43m=\u001b[49m\u001b[43mmask\u001b[49m\u001b[43m,\u001b[49m\n\u001b[32m    277\u001b[39m \u001b[43m    \u001b[49m\u001b[43mfids\u001b[49m\u001b[43m=\u001b[49m\u001b[43mfids\u001b[49m\u001b[43m,\u001b[49m\n\u001b[32m    278\u001b[39m \u001b[43m    \u001b[49m\u001b[43msql\u001b[49m\u001b[43m=\u001b[49m\u001b[43msql\u001b[49m\u001b[43m,\u001b[49m\n\u001b[32m    279\u001b[39m \u001b[43m    \u001b[49m\u001b[43msql_dialect\u001b[49m\u001b[43m=\u001b[49m\u001b[43msql_dialect\u001b[49m\u001b[43m,\u001b[49m\n\u001b[32m    280\u001b[39m \u001b[43m    \u001b[49m\u001b[43mreturn_fids\u001b[49m\u001b[43m=\u001b[49m\u001b[43mfid_as_index\u001b[49m\u001b[43m,\u001b[49m\n\u001b[32m    281\u001b[39m \u001b[43m    \u001b[49m\u001b[43m*\u001b[49m\u001b[43m*\u001b[49m\u001b[43mkwargs\u001b[49m\u001b[43m,\u001b[49m\n\u001b[32m    282\u001b[39m \u001b[43m\u001b[49m\u001b[43m)\u001b[49m\n\u001b[32m    284\u001b[39m \u001b[38;5;28;01mif\u001b[39;00m use_arrow:\n\u001b[32m    285\u001b[39m     meta, table = result\n",
      "\u001b[36mFile \u001b[39m\u001b[32m~/polygon_proj/polygon/lib/python3.12/site-packages/pyogrio/raw.py:198\u001b[39m, in \u001b[36mread\u001b[39m\u001b[34m(path_or_buffer, layer, encoding, columns, read_geometry, force_2d, skip_features, max_features, where, bbox, mask, fids, sql, sql_dialect, return_fids, datetime_as_string, **kwargs)\u001b[39m\n\u001b[32m     59\u001b[39m \u001b[38;5;250m\u001b[39m\u001b[33;03m\"\"\"Read OGR data source into numpy arrays.\u001b[39;00m\n\u001b[32m     60\u001b[39m \n\u001b[32m     61\u001b[39m \u001b[33;03mIMPORTANT: non-linear geometry types (e.g., MultiSurface) are converted\u001b[39;00m\n\u001b[32m   (...)\u001b[39m\u001b[32m    194\u001b[39m \n\u001b[32m    195\u001b[39m \u001b[33;03m\"\"\"\u001b[39;00m\n\u001b[32m    196\u001b[39m dataset_kwargs = _preprocess_options_key_value(kwargs) \u001b[38;5;28;01mif\u001b[39;00m kwargs \u001b[38;5;28;01melse\u001b[39;00m {}\n\u001b[32m--> \u001b[39m\u001b[32m198\u001b[39m \u001b[38;5;28;01mreturn\u001b[39;00m \u001b[43mogr_read\u001b[49m\u001b[43m(\u001b[49m\n\u001b[32m    199\u001b[39m \u001b[43m    \u001b[49m\u001b[43mget_vsi_path_or_buffer\u001b[49m\u001b[43m(\u001b[49m\u001b[43mpath_or_buffer\u001b[49m\u001b[43m)\u001b[49m\u001b[43m,\u001b[49m\n\u001b[32m    200\u001b[39m \u001b[43m    \u001b[49m\u001b[43mlayer\u001b[49m\u001b[43m=\u001b[49m\u001b[43mlayer\u001b[49m\u001b[43m,\u001b[49m\n\u001b[32m    201\u001b[39m \u001b[43m    \u001b[49m\u001b[43mencoding\u001b[49m\u001b[43m=\u001b[49m\u001b[43mencoding\u001b[49m\u001b[43m,\u001b[49m\n\u001b[32m    202\u001b[39m \u001b[43m    \u001b[49m\u001b[43mcolumns\u001b[49m\u001b[43m=\u001b[49m\u001b[43mcolumns\u001b[49m\u001b[43m,\u001b[49m\n\u001b[32m    203\u001b[39m \u001b[43m    \u001b[49m\u001b[43mread_geometry\u001b[49m\u001b[43m=\u001b[49m\u001b[43mread_geometry\u001b[49m\u001b[43m,\u001b[49m\n\u001b[32m    204\u001b[39m \u001b[43m    \u001b[49m\u001b[43mforce_2d\u001b[49m\u001b[43m=\u001b[49m\u001b[43mforce_2d\u001b[49m\u001b[43m,\u001b[49m\n\u001b[32m    205\u001b[39m \u001b[43m    \u001b[49m\u001b[43mskip_features\u001b[49m\u001b[43m=\u001b[49m\u001b[43mskip_features\u001b[49m\u001b[43m,\u001b[49m\n\u001b[32m    206\u001b[39m \u001b[43m    \u001b[49m\u001b[43mmax_features\u001b[49m\u001b[43m=\u001b[49m\u001b[43mmax_features\u001b[49m\u001b[43m \u001b[49m\u001b[38;5;129;43;01mor\u001b[39;49;00m\u001b[43m \u001b[49m\u001b[32;43m0\u001b[39;49m\u001b[43m,\u001b[49m\n\u001b[32m    207\u001b[39m \u001b[43m    \u001b[49m\u001b[43mwhere\u001b[49m\u001b[43m=\u001b[49m\u001b[43mwhere\u001b[49m\u001b[43m,\u001b[49m\n\u001b[32m    208\u001b[39m \u001b[43m    \u001b[49m\u001b[43mbbox\u001b[49m\u001b[43m=\u001b[49m\u001b[43mbbox\u001b[49m\u001b[43m,\u001b[49m\n\u001b[32m    209\u001b[39m \u001b[43m    \u001b[49m\u001b[43mmask\u001b[49m\u001b[43m=\u001b[49m\u001b[43m_mask_to_wkb\u001b[49m\u001b[43m(\u001b[49m\u001b[43mmask\u001b[49m\u001b[43m)\u001b[49m\u001b[43m,\u001b[49m\n\u001b[32m    210\u001b[39m \u001b[43m    \u001b[49m\u001b[43mfids\u001b[49m\u001b[43m=\u001b[49m\u001b[43mfids\u001b[49m\u001b[43m,\u001b[49m\n\u001b[32m    211\u001b[39m \u001b[43m    \u001b[49m\u001b[43msql\u001b[49m\u001b[43m=\u001b[49m\u001b[43msql\u001b[49m\u001b[43m,\u001b[49m\n\u001b[32m    212\u001b[39m \u001b[43m    \u001b[49m\u001b[43msql_dialect\u001b[49m\u001b[43m=\u001b[49m\u001b[43msql_dialect\u001b[49m\u001b[43m,\u001b[49m\n\u001b[32m    213\u001b[39m \u001b[43m    \u001b[49m\u001b[43mreturn_fids\u001b[49m\u001b[43m=\u001b[49m\u001b[43mreturn_fids\u001b[49m\u001b[43m,\u001b[49m\n\u001b[32m    214\u001b[39m \u001b[43m    \u001b[49m\u001b[43mdataset_kwargs\u001b[49m\u001b[43m=\u001b[49m\u001b[43mdataset_kwargs\u001b[49m\u001b[43m,\u001b[49m\n\u001b[32m    215\u001b[39m \u001b[43m    \u001b[49m\u001b[43mdatetime_as_string\u001b[49m\u001b[43m=\u001b[49m\u001b[43mdatetime_as_string\u001b[49m\u001b[43m,\u001b[49m\n\u001b[32m    216\u001b[39m \u001b[43m\u001b[49m\u001b[43m)\u001b[49m\n",
      "\u001b[36mFile \u001b[39m\u001b[32mpyogrio/_io.pyx:1240\u001b[39m, in \u001b[36mpyogrio._io.ogr_read\u001b[39m\u001b[34m()\u001b[39m\n",
      "\u001b[36mFile \u001b[39m\u001b[32mpyogrio/_io.pyx:220\u001b[39m, in \u001b[36mpyogrio._io.ogr_open\u001b[39m\u001b[34m()\u001b[39m\n",
      "\u001b[31mDataSourceError\u001b[39m: /home/shipi/take_home/land_parcels.shp: No such file or directory"
     ]
    }
   ],
   "source": [
    "data_frame = gp.read_file(\"<Replace with file path of land_parcels.shp>\")\n",
    "print(data_frame.head())"
   ]
  },
  {
   "cell_type": "raw",
   "id": "493da0b2-9710-474f-8dc9-e0d004dba845",
   "metadata": {},
   "source": [
    "# we know from the question that there are exactly 100 polygons, but if we wish to retrieve that information from the dataset"
   ]
  },
  {
   "cell_type": "raw",
   "id": "ffd3c3b9-768a-465a-ba86-a1a1531828cb",
   "metadata": {},
   "source": [
    "# we could use the len function on the data frame to obtain the number of records(number of polygons)"
   ]
  },
  {
   "cell_type": "code",
   "execution_count": 349,
   "id": "34bc9830-5fc7-40e6-ae77-c2fddcde3efd",
   "metadata": {},
   "outputs": [
    {
     "name": "stdout",
     "output_type": "stream",
     "text": [
      "Number of polygons : 100\n"
     ]
    }
   ],
   "source": [
    "num_polygons = len(data_frame)\n",
    "print(f\"Number of polygons : {num_polygons}\")"
   ]
  },
  {
   "cell_type": "raw",
   "id": "078cad52-3210-4567-8f4e-e817987373d4",
   "metadata": {},
   "source": [
    "# We now use the .min() and .max() functions to obtain the inclusive ranges of the carbon_store and cost for all the polygons"
   ]
  },
  {
   "cell_type": "raw",
   "id": "ba83ad93-afd9-4e29-95ff-f340aa495266",
   "metadata": {},
   "source": [
    "# I am expressing the range as a list for mathematical and notational compactness"
   ]
  },
  {
   "cell_type": "code",
   "execution_count": 350,
   "id": "f4a0c2a5-6d1e-42b8-b93d-9dee56a8baab",
   "metadata": {},
   "outputs": [
    {
     "name": "stdout",
     "output_type": "stream",
     "text": [
      "The Range of Carbon_store : [10.036534572755878, 99.8608996768998]\n",
      "The Range of Cost : [524.9516816211429, 4982.434015347925]\n"
     ]
    }
   ],
   "source": [
    "carbon_range = list((float(data_frame[\"carbon_sto\"].min()), float(data_frame[\"carbon_sto\"].max())))\n",
    "print(f\"The Range of Carbon_store : {carbon_range}\")\n",
    "cost_range = list((float(data_frame[\"cost\"].min()), float(data_frame[\"cost\"].max())))\n",
    "print(f\"The Range of Cost : {cost_range}\")"
   ]
  },
  {
   "cell_type": "raw",
   "id": "e82623bd-c035-4053-ae8d-2b516f2cb96d",
   "metadata": {},
   "source": [
    "# Now we will refactor the area of the polygon to a new projected coordinate system EPSG:3347 using the .to_crs() method"
   ]
  },
  {
   "cell_type": "code",
   "execution_count": 351,
   "id": "03629750-971d-498a-bd72-68047b101a32",
   "metadata": {},
   "outputs": [
    {
     "name": "stdout",
     "output_type": "stream",
     "text": [
      "The new projected coordinate system : EPSG:3347\n"
     ]
    }
   ],
   "source": [
    "data_frame = data_frame.to_crs(epsg=3347)\n",
    "print(f\"The new projected coordinate system : {data_frame.crs}\") # performing this check to see if the coordinate system has been modified to EPSG:3347"
   ]
  },
  {
   "cell_type": "raw",
   "id": "a86910fa-4a70-4a91-9f1b-a5da0f849350",
   "metadata": {},
   "source": [
    "# Now to obtain the area of each of these polygons in this newly projected coordinate system we use the .geometry.area"
   ]
  },
  {
   "cell_type": "raw",
   "id": "2d535112-e9e9-43be-9c19-6e129d4d86d5",
   "metadata": {},
   "source": [
    "# I am also going to modify the original data frame by adding a new column to it, such that it presents the area as well to each corresponding polygon"
   ]
  },
  {
   "cell_type": "raw",
   "id": "c3675604-cd20-46e7-81eb-52a9a6888d84",
   "metadata": {},
   "source": [
    "# Since we are dealing with landscapes(vast spaces) a reasonable unit of measure of area is kilometers square(Km ^ 2)"
   ]
  },
  {
   "cell_type": "code",
   "execution_count": 352,
   "id": "0900ec83-d0b8-4dec-bdbe-0e1847379b87",
   "metadata": {},
   "outputs": [
    {
     "name": "stdout",
     "output_type": "stream",
     "text": [
      "   parcel_id  carbon_sto         cost  \\\n",
      "0          0   57.050444  4706.178160   \n",
      "1          1   28.383328  3722.863104   \n",
      "2          2   31.481736  2281.036311   \n",
      "3          3   70.452120  1849.986859   \n",
      "4          4   38.455948  3883.390216   \n",
      "\n",
      "                                            geometry        area  \n",
      "0  POLYGON ((5968784.529 1435666.343, 5969808.7 1...  100.449939  \n",
      "1  POLYGON ((5976843.926 1432838.093, 5978090.708...   86.099804  \n",
      "2  POLYGON ((5986286.233 1435476.847, 5984060.72 ...   63.284145  \n",
      "3  POLYGON ((5991054.366 1436300, 5993800.437 144...   95.908805  \n",
      "4  POLYGON ((5997973.627 1432853.351, 6001629.132...  123.674383  \n"
     ]
    }
   ],
   "source": [
    "data_frame[\"area\"] = data_frame.geometry.area\n",
    "data_frame[\"area\"] = data_frame[\"area\"] / 1000000 # dividing by 1000000 to convert the units from m^2 to km^2\n",
    "print(data_frame.head())"
   ]
  },
  {
   "cell_type": "raw",
   "id": "aa154965-0e56-4e20-a419-1a426876f75a",
   "metadata": {},
   "source": [
    "# Now that we have reprojected our polygons and have computed the areas of each we can now summarize the minimum, average and maximum areas of the polygons using the .describe() method from which we can extract the needed data"
   ]
  },
  {
   "cell_type": "code",
   "execution_count": 353,
   "id": "8daca8d7-9ffe-4590-ab59-8c9b545d9567",
   "metadata": {},
   "outputs": [
    {
     "name": "stdout",
     "output_type": "stream",
     "text": [
      "count    100.000000\n",
      "mean      80.540033\n",
      "std       19.157155\n",
      "min       37.378247\n",
      "25%       67.342180\n",
      "50%       78.752725\n",
      "75%       92.329812\n",
      "max      132.095543\n",
      "Name: area, dtype: float64\n",
      "The Minimum Area : 37.37824723691204\n",
      "The Average Area : 80.54003288468249\n",
      "The Maximum Area : 132.0955428630858\n"
     ]
    }
   ],
   "source": [
    "area_description = data_frame[\"area\"].describe()\n",
    "print(area_description)\n",
    "min_area = area_description[\"min\"]\n",
    "avg_area = area_description[\"mean\"]\n",
    "max_area = area_description[\"max\"]\n",
    "print(f\"The Minimum Area : {min_area}\")\n",
    "print(f\"The Average Area : {avg_area}\")\n",
    "print(f\"The Maximum Area : {max_area}\")"
   ]
  },
  {
   "cell_type": "raw",
   "id": "b166040c-38fa-4a13-9d76-e26a3e6c7711",
   "metadata": {},
   "source": [
    "# Now we must filter out the outlier polygons from the dataframe depending on the area. I intend on fixing the bounds for the area based on the Z score (normally we use a scalar multiple of 1.5 for iqr, but this goes beyond the range thus I am using a different approach using Z score)"
   ]
  },
  {
   "cell_type": "code",
   "execution_count": 354,
   "id": "9f645432-8172-4216-ac86-cd9b240cf3f6",
   "metadata": {},
   "outputs": [
    {
     "name": "stdout",
     "output_type": "stream",
     "text": [
      "0\n"
     ]
    }
   ],
   "source": [
    "data_filtered = data_frame[((data_frame[\"area\"] - np.mean(data_frame[\"area\"])) / np.std(data_frame[\"area\"]) <= 3)]\n",
    "num_outliers = num_polygons - len(data_filtered) # this is the count for the number of outliers removed from the data frame\n",
    "print(num_outliers)"
   ]
  },
  {
   "cell_type": "raw",
   "id": "5e2e3c0c-7d0c-474f-bafd-c8002d071bec",
   "metadata": {},
   "source": [
    "# Now that we have removed the outliers we can compute the list of adjacenct polygons for each polygon"
   ]
  },
  {
   "cell_type": "raw",
   "id": "1baf8745-da01-4749-a187-570488b5bf1c",
   "metadata": {},
   "source": [
    "# The below adjacency list if a hashmap containing idx -> it's neighbors, the neighbors are stored as a list"
   ]
  },
  {
   "cell_type": "raw",
   "id": "d7814d7e-d924-42c4-9506-6e824662a66b",
   "metadata": {},
   "source": [
    "# I am also going to be using the .geometry.touches() method to finally obtain a list of the indices of polygons which are adjacent to the current polygon"
   ]
  },
  {
   "cell_type": "code",
   "execution_count": 355,
   "id": "cb2e4723-8d05-48c9-95ed-c8ec5045227f",
   "metadata": {},
   "outputs": [],
   "source": [
    "adjacency_lst = {}\n",
    "\n",
    "for i in data_filtered.iterrows():\n",
    "    idx = i[0]\n",
    "    polygon_geom = i[1].geometry\n",
    "    neighbors = data_filtered[data_filtered.geometry.touches(polygon_geom) & (data_filtered.index != idx)].index.tolist()\n",
    "    adjacency_lst[idx] = neighbors\n"
   ]
  },
  {
   "cell_type": "raw",
   "id": "4d27cb35-50c1-4740-b045-1620679a5537",
   "metadata": {},
   "source": [
    "# Now we perform the optimization task of maximizing the total carbon_store"
   ]
  },
  {
   "cell_type": "code",
   "execution_count": 356,
   "id": "ea7233c2-3301-4d8d-8067-d640936a9141",
   "metadata": {},
   "outputs": [],
   "source": [
    "# Lets initialise some quantities which we will be needing to solve this problem\n",
    "total_budget = 0.5 * data_filtered[\"cost\"].sum()\n",
    "\n",
    "total_minimum_area = 0.25 * data_filtered[\"area\"].sum()"
   ]
  },
  {
   "cell_type": "raw",
   "id": "9d392c91-3470-4a67-ba19-2c1f3105d56f",
   "metadata": {},
   "source": [
    "# we will start by first initialising the problem that is to be solved"
   ]
  },
  {
   "cell_type": "code",
   "execution_count": 357,
   "id": "87d3e147-2483-4277-a405-199baf9e328b",
   "metadata": {},
   "outputs": [
    {
     "name": "stderr",
     "output_type": "stream",
     "text": [
      "/home/shipi/polygon_proj/polygon/lib/python3.12/site-packages/pulp/pulp.py:1423: UserWarning: Spaces are not permitted in the name. Converted to '_'\n",
      "  warnings.warn(\"Spaces are not permitted in the name. Converted to '_'\")\n"
     ]
    }
   ],
   "source": [
    "to_solve = LpProblem(\"Maximizing Carbon store\", LpMaximize)"
   ]
  },
  {
   "cell_type": "raw",
   "id": "089dddf5-4d74-45a2-8ec6-7c5c6e731e89",
   "metadata": {},
   "source": [
    "# Now we will define the way in which the final decision is to be made and we will make this in the form of a binary decision using dictionary comprehensions"
   ]
  },
  {
   "cell_type": "code",
   "execution_count": 358,
   "id": "42e3d7e7-d234-4bac-beba-23106378d06f",
   "metadata": {},
   "outputs": [],
   "source": [
    "poly_vars = {idx: LpVariable(f\"polygon_{idx}\", cat=\"Binary\") for idx in data_filtered.index}"
   ]
  },
  {
   "cell_type": "raw",
   "id": "918dcf9f-3cbe-48d8-8370-4669c7c601a7",
   "metadata": {},
   "source": [
    "# Now we will add onto the problem, the objective which is to maximize the total carbon store"
   ]
  },
  {
   "cell_type": "code",
   "execution_count": 359,
   "id": "350ba2c4-a2ee-45d7-a4da-a7003ff5038e",
   "metadata": {},
   "outputs": [],
   "source": [
    "to_solve += lpSum(data_filtered.loc[idx, \"carbon_sto\"] * poly_vars[idx] for idx in data_filtered.index)"
   ]
  },
  {
   "cell_type": "raw",
   "id": "abe3d63c-b497-47d0-b2e9-e7bc97170e69",
   "metadata": {},
   "source": [
    "# Then we shall add the 1st constraint on the budget (the sum of cost of the selected polygons <= 50% of total cost)"
   ]
  },
  {
   "cell_type": "code",
   "execution_count": 360,
   "id": "8b00d5c2-02bb-4f71-89e1-2fa7579e4c7c",
   "metadata": {},
   "outputs": [],
   "source": [
    "to_solve += lpSum(data_filtered.loc[idx, \"cost\"] * poly_vars[idx] for idx in data_filtered.index) <= total_budget"
   ]
  },
  {
   "cell_type": "raw",
   "id": "d517a232-ea4c-4c2b-9d0d-c30cec1078cf",
   "metadata": {},
   "source": [
    "# We shall now addd a constraint to prevent adjacent polygons from being selected as well(Note : The time complexity of this process is O(n^2))"
   ]
  },
  {
   "cell_type": "code",
   "execution_count": 361,
   "id": "519eaceb-3838-4f12-84bd-8f25ec96c719",
   "metadata": {},
   "outputs": [],
   "source": [
    "for (idx, neighbors) in adjacency_lst.items():\n",
    "    for neighbor in neighbors:\n",
    "        if idx < neighbor:\n",
    "            to_solve += poly_vars[idx] + poly_vars[neighbor] <= 1"
   ]
  },
  {
   "cell_type": "raw",
   "id": "afa6bcbe-dead-41ac-8843-19761d6fab59",
   "metadata": {},
   "source": [
    "# we shall now add the 3rd constraint on the area to make sure that the total selected area is atleast 25% of the total area"
   ]
  },
  {
   "cell_type": "code",
   "execution_count": 362,
   "id": "649bd309-4883-4d58-be15-af0f4ee0e1a0",
   "metadata": {},
   "outputs": [],
   "source": [
    "to_solve += lpSum(data_filtered.loc[idx, \"area\"] * poly_vars[idx] for idx in data_filtered.index) >= total_minimum_area"
   ]
  },
  {
   "cell_type": "raw",
   "id": "ebd09305-231e-40f6-a81b-f882dd8fd8cc",
   "metadata": {},
   "source": [
    "# Now that we have established all the constraints within the problem all that remains is to solve it\n",
    "# This can be done using the .solve() method on the problem(to_solve)"
   ]
  },
  {
   "cell_type": "code",
   "execution_count": 363,
   "id": "5cc5c3c1-5cf8-4668-ba19-a58f95ff9957",
   "metadata": {},
   "outputs": [
    {
     "name": "stdout",
     "output_type": "stream",
     "text": [
      "Welcome to the CBC MILP Solver \n",
      "Version: 2.10.3 \n",
      "Build Date: Dec 15 2019 \n",
      "\n",
      "command line - /home/shipi/polygon_proj/polygon/lib/python3.12/site-packages/pulp/solverdir/cbc/linux/64/cbc /tmp/ec47a83955ea4dedad2fd041476c3205-pulp.mps -max -sec 600 -timeMode elapsed -branch -printingOptions all -solution /tmp/ec47a83955ea4dedad2fd041476c3205-pulp.sol (default strategy 1)\n",
      "At line 2 NAME          MODEL\n",
      "At line 3 ROWS\n",
      "At line 349 COLUMNS\n",
      "At line 1534 RHS\n",
      "At line 1879 BOUNDS\n",
      "At line 1980 ENDATA\n",
      "Problem MODEL has 344 rows, 100 columns and 884 elements\n",
      "Coin0008I MODEL read with 0 errors\n",
      "seconds was changed from 1e+100 to 600\n",
      "Option for timeMode changed from cpu to elapsed\n",
      "Continuous objective value is 2802.76 - 0.00 seconds\n",
      "Cgl0003I 0 fixed, 0 tightened bounds, 205 strengthened rows, 0 substitutions\n",
      "Cgl0003I 0 fixed, 0 tightened bounds, 200 strengthened rows, 0 substitutions\n",
      "Cgl0003I 0 fixed, 0 tightened bounds, 103 strengthened rows, 0 substitutions\n",
      "Cgl0003I 0 fixed, 0 tightened bounds, 78 strengthened rows, 0 substitutions\n",
      "Cgl0003I 0 fixed, 0 tightened bounds, 43 strengthened rows, 0 substitutions\n",
      "Cgl0003I 0 fixed, 0 tightened bounds, 13 strengthened rows, 0 substitutions\n",
      "Cgl0004I processed model has 83 rows, 100 columns (100 integer (100 of which binary)) and 524 elements\n",
      "Cbc0038I Initial state - 5 integers unsatisfied sum - 0.272061\n",
      "Cbc0038I Pass   1: suminf.    0.27206 (5) obj. -1864.11 iterations 32\n",
      "Cbc0038I Solution found of -1849.79\n",
      "Cbc0038I Before mini branch and bound, 95 integers at bound fixed and 0 continuous\n",
      "Cbc0038I Full problem 83 rows 100 columns, reduced to 5 rows 5 columns\n",
      "Cbc0038I Mini branch and bound did not improve solution (0.02 seconds)\n",
      "Cbc0038I Round again with cutoff of -1851.22\n",
      "Cbc0038I Reduced cost fixing fixed 37 variables on major pass 2\n",
      "Cbc0038I Pass   2: suminf.    0.27206 (5) obj. -1864.11 iterations 0\n",
      "Cbc0038I Pass   3: suminf.    0.47280 (5) obj. -1851.22 iterations 47\n",
      "Cbc0038I Pass   4: suminf.    0.56261 (3) obj. -1851.22 iterations 3\n",
      "Cbc0038I Pass   5: suminf.    0.47280 (5) obj. -1851.22 iterations 4\n",
      "Cbc0038I Pass   6: suminf.    0.56261 (3) obj. -1851.22 iterations 5\n",
      "Cbc0038I Pass   7: suminf.    0.35399 (3) obj. -1851.22 iterations 28\n",
      "Cbc0038I Solution found of -1857.43\n",
      "Cbc0038I Before mini branch and bound, 90 integers at bound fixed and 0 continuous\n",
      "Cbc0038I Full problem 83 rows 100 columns, reduced to 7 rows 7 columns\n",
      "Cbc0038I Mini branch and bound did not improve solution (0.02 seconds)\n",
      "Cbc0038I Round again with cutoff of -1858.76\n",
      "Cbc0038I Reduced cost fixing fixed 43 variables on major pass 3\n",
      "Cbc0038I Pass   8: suminf.    0.27206 (5) obj. -1864.11 iterations 0\n",
      "Cbc0038I Pass   9: suminf.    2.03755 (5) obj. -1858.76 iterations 43\n",
      "Cbc0038I Pass  10: suminf.    1.33142 (9) obj. -1858.76 iterations 18\n",
      "Cbc0038I Pass  11: suminf.    1.39772 (9) obj. -1858.76 iterations 11\n",
      "Cbc0038I Pass  12: suminf.    1.01020 (5) obj. -1858.76 iterations 8\n",
      "Cbc0038I Pass  13: suminf.    1.30528 (7) obj. -1858.76 iterations 5\n",
      "Cbc0038I Pass  14: suminf.    1.17690 (7) obj. -1858.76 iterations 2\n",
      "Cbc0038I Pass  15: suminf.    0.27206 (5) obj. -1864.11 iterations 23\n",
      "Cbc0038I Pass  16: suminf.    1.01020 (5) obj. -1858.76 iterations 20\n",
      "Cbc0038I Pass  17: suminf.    0.27206 (5) obj. -1864.11 iterations 16\n",
      "Cbc0038I Pass  18: suminf.    0.46012 (5) obj. -1858.76 iterations 14\n",
      "Cbc0038I Pass  19: suminf.    0.41710 (6) obj. -1858.76 iterations 16\n",
      "Cbc0038I Pass  20: suminf.    0.42829 (5) obj. -1863.39 iterations 15\n",
      "Cbc0038I Pass  21: suminf.    0.43344 (7) obj. -1858.76 iterations 11\n",
      "Cbc0038I Pass  22: suminf.    0.56258 (7) obj. -1858.76 iterations 10\n",
      "Cbc0038I Pass  23: suminf.    0.43344 (7) obj. -1858.76 iterations 14\n",
      "Cbc0038I Pass  24: suminf.    0.27206 (5) obj. -1864.11 iterations 14\n",
      "Cbc0038I Pass  25: suminf.    0.71225 (6) obj. -1858.76 iterations 15\n",
      "Cbc0038I Pass  26: suminf.    0.41710 (6) obj. -1858.76 iterations 14\n",
      "Cbc0038I Pass  27: suminf.    0.48184 (5) obj. -1858.76 iterations 16\n",
      "Cbc0038I Pass  28: suminf.    0.46012 (5) obj. -1858.76 iterations 5\n",
      "Cbc0038I Pass  29: suminf.    0.43344 (7) obj. -1858.76 iterations 12\n",
      "Cbc0038I Pass  30: suminf.    0.43962 (5) obj. -1858.76 iterations 11\n",
      "Cbc0038I Pass  31: suminf.    1.71397 (5) obj. -1858.76 iterations 19\n",
      "Cbc0038I Pass  32: suminf.    0.43976 (9) obj. -1858.76 iterations 16\n",
      "Cbc0038I Pass  33: suminf.    0.43962 (5) obj. -1858.76 iterations 11\n",
      "Cbc0038I Pass  34: suminf.    0.43673 (7) obj. -1858.76 iterations 11\n",
      "Cbc0038I Pass  35: suminf.    0.43962 (5) obj. -1858.76 iterations 20\n",
      "Cbc0038I Pass  36: suminf.    1.71397 (5) obj. -1858.76 iterations 18\n",
      "Cbc0038I Pass  37: suminf.    0.43962 (5) obj. -1858.76 iterations 13\n",
      "Cbc0038I No solution found this major pass\n",
      "Cbc0038I Before mini branch and bound, 77 integers at bound fixed and 0 continuous\n",
      "Cbc0038I Full problem 83 rows 100 columns, reduced to 14 rows 15 columns\n",
      "Cbc0038I Mini branch and bound did not improve solution (0.03 seconds)\n",
      "Cbc0038I After 0.03 seconds - Feasibility pump exiting with objective of -1857.43 - took 0.01 seconds\n",
      "Cbc0012I Integer solution of -1857.4269 found by feasibility pump after 0 iterations and 0 nodes (0.03 seconds)\n",
      "Cbc0038I Full problem 83 rows 100 columns, reduced to 7 rows 7 columns\n",
      "Cbc0031I 2 added rows had average density of 30.5\n",
      "Cbc0013I At root node, 7 cuts changed objective from -1864.1114 to -1857.4269 in 2 passes\n",
      "Cbc0014I Cut generator 0 (Probing) - 0 row cuts average 0.0 elements, 0 column cuts (0 active)  in 0.000 seconds - new frequency is -100\n",
      "Cbc0014I Cut generator 1 (Gomory) - 0 row cuts average 0.0 elements, 0 column cuts (0 active)  in 0.000 seconds - new frequency is -100\n",
      "Cbc0014I Cut generator 2 (Knapsack) - 2 row cuts average 24.5 elements, 0 column cuts (0 active)  in 0.000 seconds - new frequency is 1\n",
      "Cbc0014I Cut generator 3 (Clique) - 0 row cuts average 0.0 elements, 0 column cuts (0 active)  in 0.000 seconds - new frequency is -100\n",
      "Cbc0014I Cut generator 4 (MixedIntegerRounding2) - 2 row cuts average 100.0 elements, 0 column cuts (0 active)  in 0.000 seconds - new frequency is 1\n",
      "Cbc0014I Cut generator 5 (FlowCover) - 0 row cuts average 0.0 elements, 0 column cuts (0 active)  in 0.000 seconds - new frequency is -100\n",
      "Cbc0014I Cut generator 6 (TwoMirCuts) - 8 row cuts average 35.2 elements, 0 column cuts (0 active)  in 0.000 seconds - new frequency is -100\n",
      "Cbc0001I Search completed - best objective -1857.42686900338, took 9 iterations and 0 nodes (0.03 seconds)\n",
      "Cbc0035I Maximum depth 0, 47 variables fixed on reduced cost\n",
      "Cuts at root node changed objective from -1864.11 to -1857.43\n",
      "Probing was tried 2 times and created 0 cuts of which 0 were active after adding rounds of cuts (0.000 seconds)\n",
      "Gomory was tried 2 times and created 0 cuts of which 0 were active after adding rounds of cuts (0.000 seconds)\n",
      "Knapsack was tried 2 times and created 2 cuts of which 0 were active after adding rounds of cuts (0.000 seconds)\n",
      "Clique was tried 2 times and created 0 cuts of which 0 were active after adding rounds of cuts (0.000 seconds)\n",
      "MixedIntegerRounding2 was tried 2 times and created 2 cuts of which 0 were active after adding rounds of cuts (0.000 seconds)\n",
      "FlowCover was tried 2 times and created 0 cuts of which 0 were active after adding rounds of cuts (0.000 seconds)\n",
      "TwoMirCuts was tried 2 times and created 8 cuts of which 0 were active after adding rounds of cuts (0.000 seconds)\n",
      "ZeroHalf was tried 1 times and created 0 cuts of which 0 were active after adding rounds of cuts (0.000 seconds)\n",
      "\n",
      "Result - Optimal solution found\n",
      "\n",
      "Objective value:                1857.42686900\n",
      "Enumerated nodes:               0\n",
      "Total iterations:               9\n",
      "Time (CPU seconds):             0.04\n",
      "Time (Wallclock seconds):       0.03\n",
      "\n",
      "Option for printingOptions changed from normal to all\n",
      "Total time (CPU seconds):       0.04   (Wallclock seconds):       0.04\n",
      "\n"
     ]
    },
    {
     "data": {
      "text/plain": [
       "1"
      ]
     },
     "execution_count": 363,
     "metadata": {},
     "output_type": "execute_result"
    }
   ],
   "source": [
    "to_solve.solve(pulp.PULP_CBC_CMD(timeLimit=600))"
   ]
  },
  {
   "cell_type": "raw",
   "id": "8a12e55e-5567-4736-af61-7bf2a9c1e1a3",
   "metadata": {},
   "source": [
    "# Now we can create a check to see if all the constraints have been satisfied"
   ]
  },
  {
   "cell_type": "code",
   "execution_count": 364,
   "id": "6f5367c7-5211-4cb9-9f0f-6019de98384f",
   "metadata": {},
   "outputs": [
    {
     "name": "stdout",
     "output_type": "stream",
     "text": [
      "True\n"
     ]
    }
   ],
   "source": [
    "for idx in selected_polygons:\n",
    "    for neighbor in adjacency_lst[idx]:\n",
    "        if neighbor in selected_polygons:\n",
    "            print(f\"Error: {idx} and {neighbor} are adjacent but both selected!\")\n",
    "print((sum(data_filtered.loc[idx, \"cost\"] for idx in selected_polygons) <= total_budget) and (sum(data_filtered.loc[idx, \"area\"] for idx in selected_polygons) >= total_minimum_area))"
   ]
  },
  {
   "cell_type": "raw",
   "id": "5468c7f2-85ca-43ef-ab75-26c67780b158",
   "metadata": {},
   "source": [
    "# Since NO error message was desplayed and that the area and cost conditions have been satisfied we know that the problem has been solved"
   ]
  },
  {
   "cell_type": "code",
   "execution_count": 365,
   "id": "80bebaa0-6179-4b6f-bb73-3b0ec58244ae",
   "metadata": {},
   "outputs": [
    {
     "name": "stdout",
     "output_type": "stream",
     "text": [
      "The Selected polygons are : [0, 2, 6, 9, 14, 20, 22, 26, 29, 34, 40, 46, 49, 52, 54, 60, 67, 69, 73, 81, 85, 87, 93, 99]\n",
      "The Total Cost of the Selected Polygons : 67793.17435924022\n",
      "The Total Carbon Store of the Selected Polygons : 1857.4268690033723\n"
     ]
    }
   ],
   "source": [
    "selected_polygons = [idx for idx in data_filtered.index if poly_vars[idx].value() == 1]\n",
    "total_selected_cost = sum(data_filtered.loc[idx, \"cost\"] for idx in selected_polygons)\n",
    "total_carbon_store = sum(data_filtered.loc[idx, \"carbon_sto\"] for idx in selected_polygons)\n",
    "print(f\"The Selected polygons are : {selected_polygons}\")\n",
    "print(f\"The Total Cost of the Selected Polygons : {total_selected_cost}\")\n",
    "print(f\"The Total Carbon Store of the Selected Polygons : {total_carbon_store}\")"
   ]
  },
  {
   "cell_type": "code",
   "execution_count": 366,
   "id": "3aadfdd2-71b4-40ca-94b9-0e6dec176184",
   "metadata": {},
   "outputs": [],
   "source": [
    "# Now we will output the final summary"
   ]
  },
  {
   "cell_type": "code",
   "execution_count": 368,
   "id": "4e4c0ba4-1bee-4ce1-a679-7f30f9e93d12",
   "metadata": {},
   "outputs": [
    {
     "name": "stdout",
     "output_type": "stream",
     "text": [
      "The Number of Polygons selected : 24\n",
      "The Sum of Carbon_Store for the Selected Polygons : 1857.4268690033723\n",
      "The Total Cost is : 67793.17435924022 which is less than the Total Budget : 140963.08493486073\n",
      "Quirks : One of the quirks I observed is when attempting to filter out any outliers using IQR,was that the lower bound threshhold for the area seemed to go beyond the lower bound of the range. So I had to swap to Z scores instead\n"
     ]
    }
   ],
   "source": [
    "print(f\"The Number of Polygons selected : {len(selected_polygons)}\")\n",
    "print(f\"The Sum of Carbon_Store for the Selected Polygons : {total_carbon_store}\")\n",
    "print(f\"The Total Cost is : {total_selected_cost} which is less than the Total Budget : {total_budget}\")\n",
    "print(f\"Quirks : One of the quirks I observed is when attempting to filter out any outliers using IQR,\\\n",
    "was that the lower bound threshhold for the area seemed to go beyond the lower bound of the range. So I had to swap to Z scores instead\")"
   ]
  },
  {
   "cell_type": "code",
   "execution_count": 372,
   "id": "19c6ccfe-f80a-4c40-9e05-37399a0d6571",
   "metadata": {},
   "outputs": [
    {
     "data": {
      "text/plain": [
       "<Axes: >"
      ]
     },
     "execution_count": 372,
     "metadata": {},
     "output_type": "execute_result"
    },
    {
     "data": {
      "image/png": "[encoded data removed]",
      "text/plain": [
       "<Figure size 640x480 with 1 Axes>"
      ]
     },
     "metadata": {},
     "output_type": "display_data"
    }
   ],
   "source": [
    "# Finally I shall include a plot of the selected polygons\n",
    "data_selected = data_filtered.loc[selected_polygons]\n",
    "data_selected.plot()"
   ]
  },
  {
   "cell_type": "raw",
   "id": "ade8b33f-b2ff-4c8b-96e1-c764ad8ca3c1",
   "metadata": {},
   "source": [
    "# Now I am going to provide the final report for the above project"
   ]
  },
  {
   "cell_type": "markdown",
   "id": "8db90332-3d52-437a-9967-1b5f86a5e2ab",
   "metadata": {},
   "source": [
    "# 1.Introduction\n",
    "This report summarizes the approach used to select a subset of land parcels that maximize total carbon storage while adhering to constraints on the budget and the overall area of the selected polygons while preventing adjacency of them.\n",
    "\n",
    "# 2. Methodology\n",
    "\n",
    "## a) Data Preprocessing\n",
    "\n",
    "    . The land_parcels.shp file was loaded using geopandas.\n",
    "\n",
    "    . The coordinate reference system (CRS) was reprojected to EPSG:3347 to ensure accurate area calculations.\n",
    "\n",
    "    . Outliers in area were removed by comparing it's Z score(In this dataset there seem to be no outliers)\n",
    "\n",
    "    . An Adjacency list was initialised to store lists of indices of polygons that share an edge with the current polygon.\n",
    "\n",
    "## b) Optimization Initialisation\n",
    "\n",
    "    . Objective: To Maximize total carbon_store.\n",
    "    \n",
    "    . Constraint 1 (Budget): Total cost ≤ 50% of the total cost after filtering out the outliers from the data_frame\n",
    "    \n",
    "    . Constraint 2 (No Adjacency): No two adjacent polygons can be selected (Here adjacency means having a common edge with another polygon).\n",
    "    \n",
    "    . Constraint 3 (Area): Total selected area ≥ 25% of total area after filtering out the outliers.\n",
    "\n",
    "    . The optimization problem was then solved using PuLP’s CBC solver with a time limit of 600 seconds.(The time limit was set just as a precautionary measure)\n",
    "\n",
    "## c) Challenges Encountered\n",
    "\n",
    "    . Feasibility of Constraints : Some scalar multiples resulted in infeasible solutions. However adjusting the constraints improved feasibility\n",
    "    \n",
    "    . Handling Adjacency: Constructing an accurate adjacency hashmap required careful filtering to ensure only edge-sharing polygons were added.\n",
    "\n",
    "## d) Final Results\n",
    "\n",
    "    . After running the optimization model, the selected polygons were : [0, 2, 6, 9, 14, 20, 22, 26, 29, 34, 40, 46, 49, 52, 54, 60, 67, 69, 73, 81, 85, 87, 93, 99]\n",
    "\n",
    "###  Solution Evaluation (These have been tested for within the code as well to ensure that the constraints are met)\n",
    "\n",
    "        . Total Selected Cost: Within the budget limit.\n",
    "\n",
    "        . Total Selected Carbon Storage: Maximized within constraints.\n",
    "\n",
    "        . Adjacency Constraint Met: No two selected polygons share an edge.\n",
    "        \n",
    "        . Area Constraint Met: Total area exceeded the 25% requirement.\n",
    "        \n",
    "# Conclusion\n",
    "The optimization model is successful in identifying an optimal subset of the land parcels so as to maximize carbon storage while maintaining constraints."
   ]
  }
 ],
 "metadata": {
  "kernelspec": {
   "display_name": "Python 3 (ipykernel)",
   "language": "python",
   "name": "python3"
  },
  "language_info": {
   "codemirror_mode": {
    "name": "ipython",
    "version": 3
   },
   "file_extension": ".py",
   "mimetype": "text/x-python",
   "name": "python",
   "nbconvert_exporter": "python",
   "pygments_lexer": "ipython3",
   "version": "3.12.3"
  }
 },
 "nbformat": 4,
 "nbformat_minor": 5
}
